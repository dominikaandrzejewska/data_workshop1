{
  "nbformat": 4,
  "nbformat_minor": 0,
  "metadata": {
    "colab": {
      "name": "Day5.ipynb",
      "provenance": [],
      "collapsed_sections": [],
      "authorship_tag": "ABX9TyNew5vq8jm5SfdRleO9O4FD",
      "include_colab_link": true
    },
    "kernelspec": {
      "name": "python3",
      "display_name": "Python 3"
    }
  },
  "cells": [
    {
      "cell_type": "markdown",
      "metadata": {
        "id": "view-in-github",
        "colab_type": "text"
      },
      "source": [
        "<a href=\"https://colab.research.google.com/github/dominikaandrzejewska/data_workshop1/blob/master/Day5.ipynb\" target=\"_parent\"><img src=\"https://colab.research.google.com/assets/colab-badge.svg\" alt=\"Open In Colab\"/></a>"
      ]
    },
    {
      "cell_type": "code",
      "metadata": {
        "id": "A32jCzY5VzuO",
        "colab_type": "code",
        "colab": {}
      },
      "source": [
        "import pandas as pd\n",
        "import numpy as np\n",
        "\n",
        "from sklearn.dummy import DummyRegressor\n",
        "from sklearn.tree import DecisionTreeRegressor\n",
        "from sklearn.ensemble import RandomForestRegressor\n",
        "from sklearn.model_selection import cross_val_score\n",
        "\n",
        "%matplotlib inline\n"
      ],
      "execution_count": 0,
      "outputs": []
    },
    {
      "cell_type": "code",
      "metadata": {
        "id": "x9CIwWxzZZeu",
        "colab_type": "code",
        "outputId": "eb6740f0-88e5-408d-fef9-3faaf9e49fd8",
        "colab": {
          "base_uri": "https://localhost:8080/",
          "height": 289
        }
      },
      "source": [
        "df = pd.read_csv('https://raw.githubusercontent.com/aczepielik/KRKtram/master/reports/report_07-23.csv')\n",
        "#df1 = pd.read_csv('https://raw.githubusercontent.com/aczepielik/KRKtram/master/reports/report_07-24.csv')\n",
        "#pd.concat([df,df1])\n",
        "df.head()"
      ],
      "execution_count": 0,
      "outputs": [
        {
          "output_type": "execute_result",
          "data": {
            "text/html": [
              "<div>\n",
              "<style scoped>\n",
              "    .dataframe tbody tr th:only-of-type {\n",
              "        vertical-align: middle;\n",
              "    }\n",
              "\n",
              "    .dataframe tbody tr th {\n",
              "        vertical-align: top;\n",
              "    }\n",
              "\n",
              "    .dataframe thead th {\n",
              "        text-align: right;\n",
              "    }\n",
              "</style>\n",
              "<table border=\"1\" class=\"dataframe\">\n",
              "  <thead>\n",
              "    <tr style=\"text-align: right;\">\n",
              "      <th></th>\n",
              "      <th>index</th>\n",
              "      <th>time_stamp</th>\n",
              "      <th>stop</th>\n",
              "      <th>stopName</th>\n",
              "      <th>number</th>\n",
              "      <th>direction</th>\n",
              "      <th>plannedTime</th>\n",
              "      <th>vehicleId</th>\n",
              "      <th>tripId</th>\n",
              "      <th>status</th>\n",
              "      <th>delay</th>\n",
              "      <th>seq_num</th>\n",
              "    </tr>\n",
              "  </thead>\n",
              "  <tbody>\n",
              "    <tr>\n",
              "      <th>0</th>\n",
              "      <td>1</td>\n",
              "      <td>2018-07-23 06:00:45</td>\n",
              "      <td>378</td>\n",
              "      <td>Os.Piastów</td>\n",
              "      <td>21</td>\n",
              "      <td>Kopiec Wandy</td>\n",
              "      <td>2018-07-23 05:59:00</td>\n",
              "      <td>NaN</td>\n",
              "      <td>6351558574044883205</td>\n",
              "      <td>PLANNED</td>\n",
              "      <td>1</td>\n",
              "      <td>1.0</td>\n",
              "    </tr>\n",
              "    <tr>\n",
              "      <th>1</th>\n",
              "      <td>1</td>\n",
              "      <td>2018-07-23 06:00:47</td>\n",
              "      <td>612</td>\n",
              "      <td>Borsucza</td>\n",
              "      <td>22</td>\n",
              "      <td>Walcownia</td>\n",
              "      <td>2018-07-23 06:00:00</td>\n",
              "      <td>6.352185e+18</td>\n",
              "      <td>6351558574044899587</td>\n",
              "      <td>STOPPING</td>\n",
              "      <td>0</td>\n",
              "      <td>7.0</td>\n",
              "    </tr>\n",
              "    <tr>\n",
              "      <th>2</th>\n",
              "      <td>1</td>\n",
              "      <td>2018-07-23 06:00:48</td>\n",
              "      <td>572</td>\n",
              "      <td>Smolki</td>\n",
              "      <td>11</td>\n",
              "      <td>Czerwone Maki P+R</td>\n",
              "      <td>2018-07-23 06:00:00</td>\n",
              "      <td>6.352185e+18</td>\n",
              "      <td>6351558574044670211</td>\n",
              "      <td>STOPPING</td>\n",
              "      <td>0</td>\n",
              "      <td>10.0</td>\n",
              "    </tr>\n",
              "    <tr>\n",
              "      <th>3</th>\n",
              "      <td>1</td>\n",
              "      <td>2018-07-23 06:00:49</td>\n",
              "      <td>319</td>\n",
              "      <td>Jubilat</td>\n",
              "      <td>1</td>\n",
              "      <td>Wzgórza K.</td>\n",
              "      <td>2018-07-23 05:59:00</td>\n",
              "      <td>NaN</td>\n",
              "      <td>6351558574044363010</td>\n",
              "      <td>PLANNED</td>\n",
              "      <td>1</td>\n",
              "      <td>3.0</td>\n",
              "    </tr>\n",
              "    <tr>\n",
              "      <th>4</th>\n",
              "      <td>1</td>\n",
              "      <td>2018-07-23 06:00:49</td>\n",
              "      <td>322</td>\n",
              "      <td>Filharmonia</td>\n",
              "      <td>8</td>\n",
              "      <td>Bronowice Małe</td>\n",
              "      <td>2018-07-23 06:01:00</td>\n",
              "      <td>6.352185e+18</td>\n",
              "      <td>6351558574044592386</td>\n",
              "      <td>STOPPING</td>\n",
              "      <td>0</td>\n",
              "      <td>15.0</td>\n",
              "    </tr>\n",
              "  </tbody>\n",
              "</table>\n",
              "</div>"
            ],
            "text/plain": [
              "   index           time_stamp  stop  ...    status  delay seq_num\n",
              "0      1  2018-07-23 06:00:45   378  ...   PLANNED      1     1.0\n",
              "1      1  2018-07-23 06:00:47   612  ...  STOPPING      0     7.0\n",
              "2      1  2018-07-23 06:00:48   572  ...  STOPPING      0    10.0\n",
              "3      1  2018-07-23 06:00:49   319  ...   PLANNED      1     3.0\n",
              "4      1  2018-07-23 06:00:49   322  ...  STOPPING      0    15.0\n",
              "\n",
              "[5 rows x 12 columns]"
            ]
          },
          "metadata": {
            "tags": []
          },
          "execution_count": 4
        }
      ]
    },
    {
      "cell_type": "code",
      "metadata": {
        "id": "G2oe6vDRfRJm",
        "colab_type": "code",
        "outputId": "8100d31f-86b7-4223-9a1f-c5efb560da55",
        "colab": {
          "base_uri": "https://localhost:8080/",
          "height": 577
        }
      },
      "source": [
        "df[df.tripId == 6351558574044883205]"
      ],
      "execution_count": 0,
      "outputs": [
        {
          "output_type": "execute_result",
          "data": {
            "text/html": [
              "<div>\n",
              "<style scoped>\n",
              "    .dataframe tbody tr th:only-of-type {\n",
              "        vertical-align: middle;\n",
              "    }\n",
              "\n",
              "    .dataframe tbody tr th {\n",
              "        vertical-align: top;\n",
              "    }\n",
              "\n",
              "    .dataframe thead th {\n",
              "        text-align: right;\n",
              "    }\n",
              "</style>\n",
              "<table border=\"1\" class=\"dataframe\">\n",
              "  <thead>\n",
              "    <tr style=\"text-align: right;\">\n",
              "      <th></th>\n",
              "      <th>index</th>\n",
              "      <th>time_stamp</th>\n",
              "      <th>stop</th>\n",
              "      <th>stopName</th>\n",
              "      <th>number</th>\n",
              "      <th>direction</th>\n",
              "      <th>plannedTime</th>\n",
              "      <th>vehicleId</th>\n",
              "      <th>tripId</th>\n",
              "      <th>status</th>\n",
              "      <th>delay</th>\n",
              "      <th>seq_num</th>\n",
              "    </tr>\n",
              "  </thead>\n",
              "  <tbody>\n",
              "    <tr>\n",
              "      <th>0</th>\n",
              "      <td>1</td>\n",
              "      <td>2018-07-23 06:00:45</td>\n",
              "      <td>378</td>\n",
              "      <td>Os.Piastów</td>\n",
              "      <td>21</td>\n",
              "      <td>Kopiec Wandy</td>\n",
              "      <td>2018-07-23 05:59:00</td>\n",
              "      <td>NaN</td>\n",
              "      <td>6351558574044883205</td>\n",
              "      <td>PLANNED</td>\n",
              "      <td>1</td>\n",
              "      <td>1.0</td>\n",
              "    </tr>\n",
              "    <tr>\n",
              "      <th>70</th>\n",
              "      <td>3</td>\n",
              "      <td>2018-07-23 06:01:42</td>\n",
              "      <td>379</td>\n",
              "      <td>Piasta Kołodzieja</td>\n",
              "      <td>21</td>\n",
              "      <td>Kopiec Wandy</td>\n",
              "      <td>2018-07-23 06:00:00</td>\n",
              "      <td>NaN</td>\n",
              "      <td>6351558574044883205</td>\n",
              "      <td>PLANNED</td>\n",
              "      <td>1</td>\n",
              "      <td>2.0</td>\n",
              "    </tr>\n",
              "    <tr>\n",
              "      <th>135</th>\n",
              "      <td>6</td>\n",
              "      <td>2018-07-23 06:02:46</td>\n",
              "      <td>382</td>\n",
              "      <td>Kleeberga</td>\n",
              "      <td>21</td>\n",
              "      <td>Kopiec Wandy</td>\n",
              "      <td>2018-07-23 06:01:00</td>\n",
              "      <td>NaN</td>\n",
              "      <td>6351558574044883205</td>\n",
              "      <td>PLANNED</td>\n",
              "      <td>1</td>\n",
              "      <td>3.0</td>\n",
              "    </tr>\n",
              "    <tr>\n",
              "      <th>284</th>\n",
              "      <td>12</td>\n",
              "      <td>2018-07-23 06:04:54</td>\n",
              "      <td>388</td>\n",
              "      <td>Dunikowskiego</td>\n",
              "      <td>21</td>\n",
              "      <td>Kopiec Wandy</td>\n",
              "      <td>2018-07-23 06:03:00</td>\n",
              "      <td>NaN</td>\n",
              "      <td>6351558574044883205</td>\n",
              "      <td>PLANNED</td>\n",
              "      <td>1</td>\n",
              "      <td>4.0</td>\n",
              "    </tr>\n",
              "    <tr>\n",
              "      <th>414</th>\n",
              "      <td>17</td>\n",
              "      <td>2018-07-23 06:06:40</td>\n",
              "      <td>2539</td>\n",
              "      <td>Rondo Hipokratesa</td>\n",
              "      <td>21</td>\n",
              "      <td>Kopiec Wandy</td>\n",
              "      <td>2018-07-23 06:05:00</td>\n",
              "      <td>NaN</td>\n",
              "      <td>6351558574044883205</td>\n",
              "      <td>PLANNED</td>\n",
              "      <td>1</td>\n",
              "      <td>5.0</td>\n",
              "    </tr>\n",
              "    <tr>\n",
              "      <th>493</th>\n",
              "      <td>20</td>\n",
              "      <td>2018-07-23 06:07:43</td>\n",
              "      <td>392</td>\n",
              "      <td>DH Wanda</td>\n",
              "      <td>21</td>\n",
              "      <td>Kopiec Wandy</td>\n",
              "      <td>2018-07-23 06:06:00</td>\n",
              "      <td>NaN</td>\n",
              "      <td>6351558574044883205</td>\n",
              "      <td>PLANNED</td>\n",
              "      <td>1</td>\n",
              "      <td>6.0</td>\n",
              "    </tr>\n",
              "    <tr>\n",
              "      <th>697</th>\n",
              "      <td>28</td>\n",
              "      <td>2018-07-23 06:10:39</td>\n",
              "      <td>2745</td>\n",
              "      <td>Rondo Kocmyrzowskie im. Ks. Gorzelanego</td>\n",
              "      <td>21</td>\n",
              "      <td>Kopiec Wandy</td>\n",
              "      <td>2018-07-23 06:09:00</td>\n",
              "      <td>NaN</td>\n",
              "      <td>6351558574044883205</td>\n",
              "      <td>PLANNED</td>\n",
              "      <td>1</td>\n",
              "      <td>7.0</td>\n",
              "    </tr>\n",
              "    <tr>\n",
              "      <th>772</th>\n",
              "      <td>31</td>\n",
              "      <td>2018-07-23 06:11:43</td>\n",
              "      <td>418</td>\n",
              "      <td>Os.Zgody</td>\n",
              "      <td>21</td>\n",
              "      <td>Kopiec Wandy</td>\n",
              "      <td>2018-07-23 06:10:00</td>\n",
              "      <td>NaN</td>\n",
              "      <td>6351558574044883205</td>\n",
              "      <td>PLANNED</td>\n",
              "      <td>1</td>\n",
              "      <td>8.0</td>\n",
              "    </tr>\n",
              "    <tr>\n",
              "      <th>1007</th>\n",
              "      <td>40</td>\n",
              "      <td>2018-07-23 06:14:58</td>\n",
              "      <td>2744</td>\n",
              "      <td>Plac Centralny im. R.Reagana</td>\n",
              "      <td>21</td>\n",
              "      <td>Kopiec Wandy</td>\n",
              "      <td>2018-07-23 06:13:00</td>\n",
              "      <td>NaN</td>\n",
              "      <td>6351558574044883205</td>\n",
              "      <td>PLANNED</td>\n",
              "      <td>1</td>\n",
              "      <td>9.0</td>\n",
              "    </tr>\n",
              "    <tr>\n",
              "      <th>1137</th>\n",
              "      <td>45</td>\n",
              "      <td>2018-07-23 06:16:49</td>\n",
              "      <td>423</td>\n",
              "      <td>Struga</td>\n",
              "      <td>21</td>\n",
              "      <td>Kopiec Wandy</td>\n",
              "      <td>2018-07-23 06:15:00</td>\n",
              "      <td>NaN</td>\n",
              "      <td>6351558574044883205</td>\n",
              "      <td>PLANNED</td>\n",
              "      <td>1</td>\n",
              "      <td>10.0</td>\n",
              "    </tr>\n",
              "    <tr>\n",
              "      <th>1561</th>\n",
              "      <td>61</td>\n",
              "      <td>2018-07-23 06:22:46</td>\n",
              "      <td>459</td>\n",
              "      <td>Kombinat</td>\n",
              "      <td>21</td>\n",
              "      <td>Kopiec Wandy</td>\n",
              "      <td>2018-07-23 06:21:00</td>\n",
              "      <td>NaN</td>\n",
              "      <td>6351558574044883205</td>\n",
              "      <td>PLANNED</td>\n",
              "      <td>1</td>\n",
              "      <td>11.0</td>\n",
              "    </tr>\n",
              "  </tbody>\n",
              "</table>\n",
              "</div>"
            ],
            "text/plain": [
              "      index           time_stamp  stop  ...   status  delay seq_num\n",
              "0         1  2018-07-23 06:00:45   378  ...  PLANNED      1     1.0\n",
              "70        3  2018-07-23 06:01:42   379  ...  PLANNED      1     2.0\n",
              "135       6  2018-07-23 06:02:46   382  ...  PLANNED      1     3.0\n",
              "284      12  2018-07-23 06:04:54   388  ...  PLANNED      1     4.0\n",
              "414      17  2018-07-23 06:06:40  2539  ...  PLANNED      1     5.0\n",
              "493      20  2018-07-23 06:07:43   392  ...  PLANNED      1     6.0\n",
              "697      28  2018-07-23 06:10:39  2745  ...  PLANNED      1     7.0\n",
              "772      31  2018-07-23 06:11:43   418  ...  PLANNED      1     8.0\n",
              "1007     40  2018-07-23 06:14:58  2744  ...  PLANNED      1     9.0\n",
              "1137     45  2018-07-23 06:16:49   423  ...  PLANNED      1    10.0\n",
              "1561     61  2018-07-23 06:22:46   459  ...  PLANNED      1    11.0\n",
              "\n",
              "[11 rows x 12 columns]"
            ]
          },
          "metadata": {
            "tags": []
          },
          "execution_count": 5
        }
      ]
    },
    {
      "cell_type": "markdown",
      "metadata": {
        "id": "DZuVd150hlAM",
        "colab_type": "text"
      },
      "source": [
        "Delays in minutes"
      ]
    },
    {
      "cell_type": "code",
      "metadata": {
        "id": "sfVcwV7QhCyn",
        "colab_type": "code",
        "outputId": "c0c6f164-2219-4cc9-8d90-4defcff3989b",
        "colab": {
          "base_uri": "https://localhost:8080/",
          "height": 364
        }
      },
      "source": [
        "df.delay.value_counts(normalize=True)"
      ],
      "execution_count": 0,
      "outputs": [
        {
          "output_type": "execute_result",
          "data": {
            "text/plain": [
              "0     0.426905\n",
              "1     0.344715\n",
              "2     0.123509\n",
              "3     0.055987\n",
              "4     0.025421\n",
              "5     0.011410\n",
              "6     0.004852\n",
              "7     0.002657\n",
              "8     0.001189\n",
              "9     0.000867\n",
              "10    0.000587\n",
              "14    0.000503\n",
              "12    0.000475\n",
              "11    0.000350\n",
              "13    0.000336\n",
              "15    0.000154\n",
              "16    0.000042\n",
              "19    0.000028\n",
              "18    0.000014\n",
              "Name: delay, dtype: float64"
            ]
          },
          "metadata": {
            "tags": []
          },
          "execution_count": 9
        }
      ]
    },
    {
      "cell_type": "code",
      "metadata": {
        "id": "N_diWTHchUgl",
        "colab_type": "code",
        "outputId": "c9b65f27-bb4e-45ed-d346-b1126488b90a",
        "colab": {
          "base_uri": "https://localhost:8080/",
          "height": 265
        }
      },
      "source": [
        "df.delay.hist(bins=15);"
      ],
      "execution_count": 0,
      "outputs": [
        {
          "output_type": "display_data",
          "data": {
            "image/png": "[encoded data removed]",
            "text/plain": [
              "<Figure size 432x288 with 1 Axes>"
            ]
          },
          "metadata": {
            "tags": []
          }
        }
      ]
    },
    {
      "cell_type": "code",
      "metadata": {
        "id": "AZYu1Uaphhy0",
        "colab_type": "code",
        "outputId": "15f19236-14bb-41dd-d49a-96b390b448f2",
        "colab": {
          "base_uri": "https://localhost:8080/",
          "height": 173
        }
      },
      "source": [
        "df.delay.describe()"
      ],
      "execution_count": 0,
      "outputs": [
        {
          "output_type": "execute_result",
          "data": {
            "text/plain": [
              "count    71517.000000\n",
              "mean         1.014039\n",
              "std          1.357324\n",
              "min          0.000000\n",
              "25%          0.000000\n",
              "50%          1.000000\n",
              "75%          1.000000\n",
              "max         19.000000\n",
              "Name: delay, dtype: float64"
            ]
          },
          "metadata": {
            "tags": []
          },
          "execution_count": 13
        }
      ]
    },
    {
      "cell_type": "code",
      "metadata": {
        "id": "8_BgoTNeh_E6",
        "colab_type": "code",
        "outputId": "46ea7fd2-2163-40df-cc63-fbc0c7efdb70",
        "colab": {
          "base_uri": "https://localhost:8080/",
          "height": 87
        }
      },
      "source": [
        "df.status.value_counts()"
      ],
      "execution_count": 16,
      "outputs": [
        {
          "output_type": "execute_result",
          "data": {
            "text/plain": [
              "STOPPING     47224\n",
              "PREDICTED    16997\n",
              "PLANNED       7296\n",
              "Name: status, dtype: int64"
            ]
          },
          "metadata": {
            "tags": []
          },
          "execution_count": 16
        }
      ]
    },
    {
      "cell_type": "code",
      "metadata": {
        "id": "Czx-FYZakDj2",
        "colab_type": "code",
        "colab": {
          "base_uri": "https://localhost:8080/",
          "height": 69
        },
        "outputId": "48d0d521-8b41-456a-a88b-05afc1100b10"
      },
      "source": [
        "df.columns"
      ],
      "execution_count": 17,
      "outputs": [
        {
          "output_type": "execute_result",
          "data": {
            "text/plain": [
              "Index(['index', 'time_stamp', 'stop', 'stopName', 'number', 'direction',\n",
              "       'plannedTime', 'vehicleId', 'tripId', 'status', 'delay', 'seq_num'],\n",
              "      dtype='object')"
            ]
          },
          "metadata": {
            "tags": []
          },
          "execution_count": 17
        }
      ]
    },
    {
      "cell_type": "code",
      "metadata": {
        "id": "SXK2VZ5TC41U",
        "colab_type": "code",
        "colab": {
          "base_uri": "https://localhost:8080/",
          "height": 121
        },
        "outputId": "1d1b36be-afc1-4bfe-ad9a-7ebe8c7ae3cf"
      },
      "source": [
        "df['plannedTime'] = pd.to_datetime( df['plannedTime'])\n",
        "df[['plannedTime']].info()\n",
        "\n",
        "df['hour'] = df['plannedTime'].dt.hour"
      ],
      "execution_count": 63,
      "outputs": [
        {
          "output_type": "stream",
          "text": [
            "<class 'pandas.core.frame.DataFrame'>\n",
            "RangeIndex: 71517 entries, 0 to 71516\n",
            "Data columns (total 1 columns):\n",
            "plannedTime    71517 non-null datetime64[ns]\n",
            "dtypes: datetime64[ns](1)\n",
            "memory usage: 558.9 KB\n"
          ],
          "name": "stdout"
        }
      ]
    },
    {
      "cell_type": "code",
      "metadata": {
        "id": "R1uTONbB5ZBe",
        "colab_type": "code",
        "colab": {
          "base_uri": "https://localhost:8080/",
          "height": 35
        },
        "outputId": "2eb2b858-db3d-47a9-9904-3714ead6eea1"
      },
      "source": [
        "df['delay_secs'] = df['delay'].map(lambda x: x*60)\n",
        "df['direction_cat'] = df['direction'].factorize()[0]\n",
        "#Jeśli nie uzupełnię pustych wierszy w kolumnie VehicleId, wyskakuje błąd, a więc:\n",
        "df['vehicleId'].fillna(-1, inplace=True)\n",
        "df['seq_num'].fillna(-1, inplace=True)\n",
        "\n",
        "def gen_id_num_direction(x):\n",
        "  return ' {} {} '.format(x['number'], x['direction'])\n",
        "df['number_direction_id'] = df.apply(gen_id_num_direction, axis=1).factorize()[0]\n",
        "\n",
        "def gen_id_stop_direction(x):\n",
        "  return ' {} {} '.format(x['stop'], x['direction'])\n",
        "df['stop_direction_id'] = df.apply(gen_id_stop_direction, axis=1).factorize()[0]\n",
        "\n",
        "feats = [\n",
        "    'number',\n",
        "    'stop',\n",
        "    'direction_cat',\n",
        "    'vehicleId',\n",
        "    'seq_num',\n",
        "    'number_direction_id',\n",
        "    'stop_direction_id',\n",
        "]\n",
        "X = df[feats].values\n",
        "y = df['delay_secs'].values\n",
        "\n",
        "#model = RandomForestRegressor(max_depth=10, n_estimators=50, n_jobs=8)\n",
        "model = DecisionTreeRegressor(max_depth=10, random_state=0)\n",
        "scores = cross_val_score(model, X, y, cv=3, scoring='neg_mean_absolute_error')\n",
        "np.mean(scores), np.std(scores)"
      ],
      "execution_count": 66,
      "outputs": [
        {
          "output_type": "execute_result",
          "data": {
            "text/plain": [
              "(-48.911446275525776, 2.5252312592564357)"
            ]
          },
          "metadata": {
            "tags": []
          },
          "execution_count": 66
        }
      ]
    },
    {
      "cell_type": "code",
      "metadata": {
        "id": "bcyBzA4I6UWz",
        "colab_type": "code",
        "colab": {}
      },
      "source": [
        ""
      ],
      "execution_count": 0,
      "outputs": []
    }
  ]
}